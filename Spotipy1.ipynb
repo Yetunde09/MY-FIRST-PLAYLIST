{
 "cells": [
  {
   "cell_type": "markdown",
   "id": "7203dea0",
   "metadata": {},
   "source": [
    "# PROJECT: EXTRACTION OF SPOTIFY DATA FOR DATA ANALYIS"
   ]
  },
  {
   "cell_type": "code",
   "execution_count": null,
   "id": "e7945784",
   "metadata": {},
   "outputs": [],
   "source": [
    "import spotipy\n",
    "import pandas as pd\n",
    "import time\n",
    "from spotipy.oauth2 import SpotifyClientCredentials\n",
    "import json"
   ]
  },
  {
   "cell_type": "code",
   "execution_count": 21,
   "id": "2cfa216b",
   "metadata": {},
   "outputs": [],
   "source": [
    "credentials = json.load(open('authorization.json'))\n",
    "client_id = credentials['client_id']\n",
    "client_secret = credentials['client_secret']\n",
    "playlist_index=0\n",
    "playlists=json.load(open('playlists_like_dislike.json'))\n",
    "playlist_uri=playlists[playlist_index]['uri']\n",
    "like=playlists[playlist_index]['like']\n",
    "client_credentials_manager=SpotifyClientCredentials( client_id=client_id,client_secret= client_secret)\n",
    "sp= spotipy.Spotify(client_credentials_manager=client_credentials_manager)"
   ]
  },
  {
   "cell_type": "code",
   "execution_count": 22,
   "id": "263b6925",
   "metadata": {},
   "outputs": [],
   "source": [
    "uri= playlist_uri\n",
    "username=uri.split(':')[2]\n",
    "playlist_id=uri.split(':')[4]"
   ]
  },
  {
   "cell_type": "code",
   "execution_count": 23,
   "id": "744747db",
   "metadata": {},
   "outputs": [],
   "source": [
    "results=sp.user_playlist(username,playlist_id,'tracks')"
   ]
  },
  {
   "cell_type": "code",
   "execution_count": 24,
   "id": "236b9d3b",
   "metadata": {},
   "outputs": [],
   "source": [
    "playlist_tracks_data=results['tracks']\n",
    "playlist_tracks_id=[]\n",
    "playlist_tracks_titles=[]\n",
    "playlist_tracks_artists=[]\n",
    "playlist_tracks_first_artists=[]\n",
    "for track in playlist_tracks_data['items']:\n",
    "    playlist_tracks_id.append(track['track']['id'])\n",
    "    playlist_tracks_titles.append(track['track']['name'])\n",
    "    \n",
    "    artist_list=[]\n",
    "    for artist in track['track']['artists']:\n",
    "        artist_list.append(artist['name'])\n",
    "    playlist_tracks_artists.append(artist_list)\n",
    "    playlist_tracks_first_artists.append(artist_list[0])"
   ]
  },
  {
   "cell_type": "markdown",
   "id": "1c19d150",
   "metadata": {},
   "source": [
    "# Extracting Audio Features Of Each Track"
   ]
  },
  {
   "cell_type": "code",
   "execution_count": 25,
   "id": "4559268a",
   "metadata": {},
   "outputs": [],
   "source": [
    "features=sp.audio_features(playlist_tracks_id)"
   ]
  },
  {
   "cell_type": "code",
   "execution_count": 26,
   "id": "40cfd53f",
   "metadata": {},
   "outputs": [],
   "source": [
    "features_df=pd.DataFrame(data=features, columns=features[0].keys())"
   ]
  },
  {
   "cell_type": "code",
   "execution_count": 28,
   "id": "0cda4037",
   "metadata": {},
   "outputs": [],
   "source": [
    "features_df['id']=playlist_tracks_id\n",
    "features_df['title']=playlist_tracks_titles\n",
    "features_df['first_artist']= playlist_tracks_first_artists\n",
    "features_df['all_artists']= playlist_tracks_artists\n",
    "#features_df=features_df.set_index('id')\n",
    "features_df=features_df[['id', 'title', 'first_artist', 'all_artists',\n",
    "                         'danceability','energy','key','loudness',\n",
    "                         'mode','acousticness','instrumentalness',\n",
    "                         'liveness','valence','tempo',\n",
    "                         'duration_ms','time_signature']]"
   ]
  },
  {
   "cell_type": "code",
   "execution_count": 29,
   "id": "6365d138",
   "metadata": {},
   "outputs": [
    {
     "data": {
      "text/html": [
       "<div>\n",
       "<style scoped>\n",
       "    .dataframe tbody tr th:only-of-type {\n",
       "        vertical-align: middle;\n",
       "    }\n",
       "\n",
       "    .dataframe tbody tr th {\n",
       "        vertical-align: top;\n",
       "    }\n",
       "\n",
       "    .dataframe thead th {\n",
       "        text-align: right;\n",
       "    }\n",
       "</style>\n",
       "<table border=\"1\" class=\"dataframe\">\n",
       "  <thead>\n",
       "    <tr style=\"text-align: right;\">\n",
       "      <th></th>\n",
       "      <th>id</th>\n",
       "      <th>title</th>\n",
       "      <th>first_artist</th>\n",
       "      <th>all_artists</th>\n",
       "      <th>danceability</th>\n",
       "      <th>energy</th>\n",
       "      <th>key</th>\n",
       "      <th>loudness</th>\n",
       "      <th>mode</th>\n",
       "      <th>acousticness</th>\n",
       "      <th>instrumentalness</th>\n",
       "      <th>liveness</th>\n",
       "      <th>valence</th>\n",
       "      <th>tempo</th>\n",
       "      <th>duration_ms</th>\n",
       "      <th>time_signature</th>\n",
       "    </tr>\n",
       "  </thead>\n",
       "  <tbody>\n",
       "    <tr>\n",
       "      <th>0</th>\n",
       "      <td>4vUmTMuQqjdnvlZmAH61Qk</td>\n",
       "      <td>South of the Border (feat. Camila Cabello &amp; Ca...</td>\n",
       "      <td>Ed Sheeran</td>\n",
       "      <td>[Ed Sheeran, Camila Cabello, Cardi B]</td>\n",
       "      <td>0.857</td>\n",
       "      <td>0.621</td>\n",
       "      <td>9</td>\n",
       "      <td>-6.376</td>\n",
       "      <td>0</td>\n",
       "      <td>0.1480</td>\n",
       "      <td>0.000000</td>\n",
       "      <td>0.0865</td>\n",
       "      <td>0.668</td>\n",
       "      <td>97.989</td>\n",
       "      <td>204467</td>\n",
       "      <td>4</td>\n",
       "    </tr>\n",
       "    <tr>\n",
       "      <th>1</th>\n",
       "      <td>1jIMjbzcGCcCQn5iMu9CUc</td>\n",
       "      <td>That's Hilarious</td>\n",
       "      <td>Charlie Puth</td>\n",
       "      <td>[Charlie Puth]</td>\n",
       "      <td>0.714</td>\n",
       "      <td>0.442</td>\n",
       "      <td>6</td>\n",
       "      <td>-5.909</td>\n",
       "      <td>1</td>\n",
       "      <td>0.7420</td>\n",
       "      <td>0.000000</td>\n",
       "      <td>0.1140</td>\n",
       "      <td>0.546</td>\n",
       "      <td>108.039</td>\n",
       "      <td>146855</td>\n",
       "      <td>4</td>\n",
       "    </tr>\n",
       "    <tr>\n",
       "      <th>2</th>\n",
       "      <td>3rmo8F54jFF8OgYsqTxm5d</td>\n",
       "      <td>Bad Habits</td>\n",
       "      <td>Ed Sheeran</td>\n",
       "      <td>[Ed Sheeran]</td>\n",
       "      <td>0.807</td>\n",
       "      <td>0.893</td>\n",
       "      <td>11</td>\n",
       "      <td>-3.745</td>\n",
       "      <td>0</td>\n",
       "      <td>0.0451</td>\n",
       "      <td>0.000028</td>\n",
       "      <td>0.3660</td>\n",
       "      <td>0.537</td>\n",
       "      <td>126.011</td>\n",
       "      <td>230747</td>\n",
       "      <td>4</td>\n",
       "    </tr>\n",
       "    <tr>\n",
       "      <th>3</th>\n",
       "      <td>6AtZLIzUINvExIUy4QhdjP</td>\n",
       "      <td>I Knew You Were Trouble (Taylor's Version)</td>\n",
       "      <td>Taylor Swift</td>\n",
       "      <td>[Taylor Swift]</td>\n",
       "      <td>0.584</td>\n",
       "      <td>0.557</td>\n",
       "      <td>6</td>\n",
       "      <td>-6.371</td>\n",
       "      <td>1</td>\n",
       "      <td>0.0129</td>\n",
       "      <td>0.000000</td>\n",
       "      <td>0.0576</td>\n",
       "      <td>0.767</td>\n",
       "      <td>154.008</td>\n",
       "      <td>219760</td>\n",
       "      <td>4</td>\n",
       "    </tr>\n",
       "    <tr>\n",
       "      <th>4</th>\n",
       "      <td>50nfwKoDiSYg8zOCREWAm5</td>\n",
       "      <td>Shivers</td>\n",
       "      <td>Ed Sheeran</td>\n",
       "      <td>[Ed Sheeran]</td>\n",
       "      <td>0.788</td>\n",
       "      <td>0.859</td>\n",
       "      <td>2</td>\n",
       "      <td>-2.724</td>\n",
       "      <td>1</td>\n",
       "      <td>0.2810</td>\n",
       "      <td>0.000000</td>\n",
       "      <td>0.0424</td>\n",
       "      <td>0.822</td>\n",
       "      <td>141.020</td>\n",
       "      <td>207853</td>\n",
       "      <td>4</td>\n",
       "    </tr>\n",
       "  </tbody>\n",
       "</table>\n",
       "</div>"
      ],
      "text/plain": [
       "                       id                                              title  \\\n",
       "0  4vUmTMuQqjdnvlZmAH61Qk  South of the Border (feat. Camila Cabello & Ca...   \n",
       "1  1jIMjbzcGCcCQn5iMu9CUc                                   That's Hilarious   \n",
       "2  3rmo8F54jFF8OgYsqTxm5d                                         Bad Habits   \n",
       "3  6AtZLIzUINvExIUy4QhdjP         I Knew You Were Trouble (Taylor's Version)   \n",
       "4  50nfwKoDiSYg8zOCREWAm5                                            Shivers   \n",
       "\n",
       "   first_artist                            all_artists  danceability  energy  \\\n",
       "0    Ed Sheeran  [Ed Sheeran, Camila Cabello, Cardi B]         0.857   0.621   \n",
       "1  Charlie Puth                         [Charlie Puth]         0.714   0.442   \n",
       "2    Ed Sheeran                           [Ed Sheeran]         0.807   0.893   \n",
       "3  Taylor Swift                         [Taylor Swift]         0.584   0.557   \n",
       "4    Ed Sheeran                           [Ed Sheeran]         0.788   0.859   \n",
       "\n",
       "   key  loudness  mode  acousticness  instrumentalness  liveness  valence  \\\n",
       "0    9    -6.376     0        0.1480          0.000000    0.0865    0.668   \n",
       "1    6    -5.909     1        0.7420          0.000000    0.1140    0.546   \n",
       "2   11    -3.745     0        0.0451          0.000028    0.3660    0.537   \n",
       "3    6    -6.371     1        0.0129          0.000000    0.0576    0.767   \n",
       "4    2    -2.724     1        0.2810          0.000000    0.0424    0.822   \n",
       "\n",
       "     tempo  duration_ms  time_signature  \n",
       "0   97.989       204467               4  \n",
       "1  108.039       146855               4  \n",
       "2  126.011       230747               4  \n",
       "3  154.008       219760               4  \n",
       "4  141.020       207853               4  "
      ]
     },
     "execution_count": 29,
     "metadata": {},
     "output_type": "execute_result"
    }
   ],
   "source": [
    "features_df.head()"
   ]
  },
  {
   "cell_type": "code",
   "execution_count": 25,
   "id": "30a5e458",
   "metadata": {},
   "outputs": [
    {
     "data": {
      "text/html": [
       "<div>\n",
       "<style scoped>\n",
       "    .dataframe tbody tr th:only-of-type {\n",
       "        vertical-align: middle;\n",
       "    }\n",
       "\n",
       "    .dataframe tbody tr th {\n",
       "        vertical-align: top;\n",
       "    }\n",
       "\n",
       "    .dataframe thead th {\n",
       "        text-align: right;\n",
       "    }\n",
       "</style>\n",
       "<table border=\"1\" class=\"dataframe\">\n",
       "  <thead>\n",
       "    <tr style=\"text-align: right;\">\n",
       "      <th></th>\n",
       "      <th>id</th>\n",
       "      <th>title</th>\n",
       "      <th>first_artist</th>\n",
       "      <th>all_artists</th>\n",
       "      <th>danceability</th>\n",
       "      <th>energy</th>\n",
       "      <th>key</th>\n",
       "      <th>loudness</th>\n",
       "      <th>mode</th>\n",
       "      <th>acousticness</th>\n",
       "      <th>instrumentalness</th>\n",
       "      <th>liveness</th>\n",
       "      <th>valence</th>\n",
       "      <th>tempo</th>\n",
       "      <th>duration_ms</th>\n",
       "      <th>time_signature</th>\n",
       "    </tr>\n",
       "    <tr>\n",
       "      <th>id</th>\n",
       "      <th></th>\n",
       "      <th></th>\n",
       "      <th></th>\n",
       "      <th></th>\n",
       "      <th></th>\n",
       "      <th></th>\n",
       "      <th></th>\n",
       "      <th></th>\n",
       "      <th></th>\n",
       "      <th></th>\n",
       "      <th></th>\n",
       "      <th></th>\n",
       "      <th></th>\n",
       "      <th></th>\n",
       "      <th></th>\n",
       "      <th></th>\n",
       "    </tr>\n",
       "  </thead>\n",
       "  <tbody>\n",
       "    <tr>\n",
       "      <th>2n6red10oCd6YhlEUp6jXy</th>\n",
       "      <td>2n6red10oCd6YhlEUp6jXy</td>\n",
       "      <td>Used To Be</td>\n",
       "      <td>Jonas Brothers</td>\n",
       "      <td>[Jonas Brothers]</td>\n",
       "      <td>0.710</td>\n",
       "      <td>0.517</td>\n",
       "      <td>1</td>\n",
       "      <td>-6.850</td>\n",
       "      <td>1</td>\n",
       "      <td>0.1720</td>\n",
       "      <td>0.0</td>\n",
       "      <td>0.0786</td>\n",
       "      <td>0.176</td>\n",
       "      <td>145.946</td>\n",
       "      <td>184987</td>\n",
       "      <td>4</td>\n",
       "    </tr>\n",
       "    <tr>\n",
       "      <th>51ChrwmUPDJvedPQnIU8Ls</th>\n",
       "      <td>51ChrwmUPDJvedPQnIU8Ls</td>\n",
       "      <td>Dive</td>\n",
       "      <td>Ed Sheeran</td>\n",
       "      <td>[Ed Sheeran]</td>\n",
       "      <td>0.761</td>\n",
       "      <td>0.386</td>\n",
       "      <td>4</td>\n",
       "      <td>-6.158</td>\n",
       "      <td>1</td>\n",
       "      <td>0.3550</td>\n",
       "      <td>0.0</td>\n",
       "      <td>0.0953</td>\n",
       "      <td>0.526</td>\n",
       "      <td>134.943</td>\n",
       "      <td>238440</td>\n",
       "      <td>3</td>\n",
       "    </tr>\n",
       "    <tr>\n",
       "      <th>6XlSyYFTU1nodeWwwzVgTV</th>\n",
       "      <td>6XlSyYFTU1nodeWwwzVgTV</td>\n",
       "      <td>Sangria Wine</td>\n",
       "      <td>Pharrell Williams</td>\n",
       "      <td>[Pharrell Williams, Camila Cabello]</td>\n",
       "      <td>0.831</td>\n",
       "      <td>0.713</td>\n",
       "      <td>1</td>\n",
       "      <td>-3.646</td>\n",
       "      <td>0</td>\n",
       "      <td>0.1810</td>\n",
       "      <td>0.0</td>\n",
       "      <td>0.0572</td>\n",
       "      <td>0.690</td>\n",
       "      <td>132.109</td>\n",
       "      <td>202853</td>\n",
       "      <td>4</td>\n",
       "    </tr>\n",
       "    <tr>\n",
       "      <th>6SznMYPQJHzr3IwsAHLId2</th>\n",
       "      <td>6SznMYPQJHzr3IwsAHLId2</td>\n",
       "      <td>Bibia Be Ye Ye</td>\n",
       "      <td>Ed Sheeran</td>\n",
       "      <td>[Ed Sheeran]</td>\n",
       "      <td>0.738</td>\n",
       "      <td>0.677</td>\n",
       "      <td>7</td>\n",
       "      <td>-5.121</td>\n",
       "      <td>1</td>\n",
       "      <td>0.5200</td>\n",
       "      <td>0.0</td>\n",
       "      <td>0.1330</td>\n",
       "      <td>0.882</td>\n",
       "      <td>127.067</td>\n",
       "      <td>176747</td>\n",
       "      <td>4</td>\n",
       "    </tr>\n",
       "    <tr>\n",
       "      <th>0jS8J4DPuFXEJo26DwIVGJ</th>\n",
       "      <td>0jS8J4DPuFXEJo26DwIVGJ</td>\n",
       "      <td>Chemicals</td>\n",
       "      <td>The Vamps</td>\n",
       "      <td>[The Vamps]</td>\n",
       "      <td>0.695</td>\n",
       "      <td>0.668</td>\n",
       "      <td>7</td>\n",
       "      <td>-4.406</td>\n",
       "      <td>1</td>\n",
       "      <td>0.0423</td>\n",
       "      <td>0.0</td>\n",
       "      <td>0.1200</td>\n",
       "      <td>0.696</td>\n",
       "      <td>159.930</td>\n",
       "      <td>170693</td>\n",
       "      <td>4</td>\n",
       "    </tr>\n",
       "  </tbody>\n",
       "</table>\n",
       "</div>"
      ],
      "text/plain": [
       "                                            id           title  \\\n",
       "id                                                               \n",
       "2n6red10oCd6YhlEUp6jXy  2n6red10oCd6YhlEUp6jXy      Used To Be   \n",
       "51ChrwmUPDJvedPQnIU8Ls  51ChrwmUPDJvedPQnIU8Ls            Dive   \n",
       "6XlSyYFTU1nodeWwwzVgTV  6XlSyYFTU1nodeWwwzVgTV    Sangria Wine   \n",
       "6SznMYPQJHzr3IwsAHLId2  6SznMYPQJHzr3IwsAHLId2  Bibia Be Ye Ye   \n",
       "0jS8J4DPuFXEJo26DwIVGJ  0jS8J4DPuFXEJo26DwIVGJ       Chemicals   \n",
       "\n",
       "                             first_artist  \\\n",
       "id                                          \n",
       "2n6red10oCd6YhlEUp6jXy     Jonas Brothers   \n",
       "51ChrwmUPDJvedPQnIU8Ls         Ed Sheeran   \n",
       "6XlSyYFTU1nodeWwwzVgTV  Pharrell Williams   \n",
       "6SznMYPQJHzr3IwsAHLId2         Ed Sheeran   \n",
       "0jS8J4DPuFXEJo26DwIVGJ          The Vamps   \n",
       "\n",
       "                                                all_artists  danceability  \\\n",
       "id                                                                          \n",
       "2n6red10oCd6YhlEUp6jXy                     [Jonas Brothers]         0.710   \n",
       "51ChrwmUPDJvedPQnIU8Ls                         [Ed Sheeran]         0.761   \n",
       "6XlSyYFTU1nodeWwwzVgTV  [Pharrell Williams, Camila Cabello]         0.831   \n",
       "6SznMYPQJHzr3IwsAHLId2                         [Ed Sheeran]         0.738   \n",
       "0jS8J4DPuFXEJo26DwIVGJ                          [The Vamps]         0.695   \n",
       "\n",
       "                        energy  key  loudness  mode  acousticness  \\\n",
       "id                                                                  \n",
       "2n6red10oCd6YhlEUp6jXy   0.517    1    -6.850     1        0.1720   \n",
       "51ChrwmUPDJvedPQnIU8Ls   0.386    4    -6.158     1        0.3550   \n",
       "6XlSyYFTU1nodeWwwzVgTV   0.713    1    -3.646     0        0.1810   \n",
       "6SznMYPQJHzr3IwsAHLId2   0.677    7    -5.121     1        0.5200   \n",
       "0jS8J4DPuFXEJo26DwIVGJ   0.668    7    -4.406     1        0.0423   \n",
       "\n",
       "                        instrumentalness  liveness  valence    tempo  \\\n",
       "id                                                                     \n",
       "2n6red10oCd6YhlEUp6jXy               0.0    0.0786    0.176  145.946   \n",
       "51ChrwmUPDJvedPQnIU8Ls               0.0    0.0953    0.526  134.943   \n",
       "6XlSyYFTU1nodeWwwzVgTV               0.0    0.0572    0.690  132.109   \n",
       "6SznMYPQJHzr3IwsAHLId2               0.0    0.1330    0.882  127.067   \n",
       "0jS8J4DPuFXEJo26DwIVGJ               0.0    0.1200    0.696  159.930   \n",
       "\n",
       "                        duration_ms  time_signature  \n",
       "id                                                   \n",
       "2n6red10oCd6YhlEUp6jXy       184987               4  \n",
       "51ChrwmUPDJvedPQnIU8Ls       238440               3  \n",
       "6XlSyYFTU1nodeWwwzVgTV       202853               4  \n",
       "6SznMYPQJHzr3IwsAHLId2       176747               4  \n",
       "0jS8J4DPuFXEJo26DwIVGJ       170693               4  "
      ]
     },
     "execution_count": 25,
     "metadata": {},
     "output_type": "execute_result"
    }
   ],
   "source": [
    "features_df.tail()"
   ]
  },
  {
   "cell_type": "code",
   "execution_count": 30,
   "id": "7e756b7a",
   "metadata": {},
   "outputs": [
    {
     "data": {
      "text/plain": [
       "(50, 16)"
      ]
     },
     "execution_count": 30,
     "metadata": {},
     "output_type": "execute_result"
    }
   ],
   "source": [
    "# Numbers of rolls and columns\n",
    "features_df.shape"
   ]
  },
  {
   "cell_type": "code",
   "execution_count": null,
   "id": "170e0c0d",
   "metadata": {},
   "outputs": [],
   "source": [
    "# There are 50 rolls and 16 columns"
   ]
  },
  {
   "cell_type": "code",
   "execution_count": null,
   "id": "ea9d042a",
   "metadata": {},
   "outputs": [],
   "source": [
    "# finding missing values"
   ]
  },
  {
   "cell_type": "code",
   "execution_count": 54,
   "id": "d2b6d2ef",
   "metadata": {},
   "outputs": [
    {
     "data": {
      "text/plain": [
       "id                  0\n",
       "title               0\n",
       "first_artist        0\n",
       "all_artists         0\n",
       "danceability        0\n",
       "energy              0\n",
       "key                 0\n",
       "loudness            0\n",
       "mode                0\n",
       "acousticness        0\n",
       "instrumentalness    0\n",
       "liveness            0\n",
       "valence             0\n",
       "tempo               0\n",
       "time_signature      0\n",
       "duration            0\n",
       "dtype: int64"
      ]
     },
     "execution_count": 54,
     "metadata": {},
     "output_type": "execute_result"
    }
   ],
   "source": [
    "features_df.isnull().sum()"
   ]
  },
  {
   "cell_type": "code",
   "execution_count": null,
   "id": "b930036d",
   "metadata": {},
   "outputs": [],
   "source": [
    "# There're no missing values"
   ]
  },
  {
   "cell_type": "code",
   "execution_count": null,
   "id": "6b42ed15",
   "metadata": {},
   "outputs": [],
   "source": [
    "# converting the data to csv file"
   ]
  },
  {
   "cell_type": "code",
   "execution_count": null,
   "id": "6efc4aed",
   "metadata": {},
   "outputs": [],
   "source": [
    "features_df.to_csv('MY PLAYLIST'+str(playlist_index)+\".csv\",encoding='utf-8',index='false')"
   ]
  },
  {
   "cell_type": "code",
   "execution_count": null,
   "id": "2a7a13c2",
   "metadata": {},
   "outputs": [],
   "source": []
  },
  {
   "cell_type": "markdown",
   "id": "8e64bf24",
   "metadata": {},
   "source": [
    "## DATA EXPLORATION ANALYSIS"
   ]
  },
  {
   "cell_type": "code",
   "execution_count": 34,
   "id": "64bae4f8",
   "metadata": {},
   "outputs": [],
   "source": [
    "import matplotlib.pyplot as plt\n",
    "import seaborn as sns"
   ]
  },
  {
   "cell_type": "code",
   "execution_count": 31,
   "id": "11972006",
   "metadata": {},
   "outputs": [
    {
     "data": {
      "text/html": [
       "<div>\n",
       "<style scoped>\n",
       "    .dataframe tbody tr th:only-of-type {\n",
       "        vertical-align: middle;\n",
       "    }\n",
       "\n",
       "    .dataframe tbody tr th {\n",
       "        vertical-align: top;\n",
       "    }\n",
       "\n",
       "    .dataframe thead th {\n",
       "        text-align: right;\n",
       "    }\n",
       "</style>\n",
       "<table border=\"1\" class=\"dataframe\">\n",
       "  <thead>\n",
       "    <tr style=\"text-align: right;\">\n",
       "      <th></th>\n",
       "      <th>count</th>\n",
       "      <th>mean</th>\n",
       "      <th>std</th>\n",
       "      <th>min</th>\n",
       "      <th>25%</th>\n",
       "      <th>50%</th>\n",
       "      <th>75%</th>\n",
       "      <th>max</th>\n",
       "    </tr>\n",
       "  </thead>\n",
       "  <tbody>\n",
       "    <tr>\n",
       "      <th>danceability</th>\n",
       "      <td>50.0</td>\n",
       "      <td>0.655480</td>\n",
       "      <td>0.140470</td>\n",
       "      <td>0.33100</td>\n",
       "      <td>0.577250</td>\n",
       "      <td>0.6415</td>\n",
       "      <td>0.760750</td>\n",
       "      <td>0.95600</td>\n",
       "    </tr>\n",
       "    <tr>\n",
       "      <th>energy</th>\n",
       "      <td>50.0</td>\n",
       "      <td>0.569180</td>\n",
       "      <td>0.174263</td>\n",
       "      <td>0.24200</td>\n",
       "      <td>0.421750</td>\n",
       "      <td>0.5780</td>\n",
       "      <td>0.696750</td>\n",
       "      <td>0.89300</td>\n",
       "    </tr>\n",
       "    <tr>\n",
       "      <th>key</th>\n",
       "      <td>50.0</td>\n",
       "      <td>5.660000</td>\n",
       "      <td>3.679008</td>\n",
       "      <td>0.00000</td>\n",
       "      <td>2.000000</td>\n",
       "      <td>6.0000</td>\n",
       "      <td>9.000000</td>\n",
       "      <td>11.00000</td>\n",
       "    </tr>\n",
       "    <tr>\n",
       "      <th>loudness</th>\n",
       "      <td>50.0</td>\n",
       "      <td>-6.456960</td>\n",
       "      <td>2.040277</td>\n",
       "      <td>-12.68300</td>\n",
       "      <td>-7.476750</td>\n",
       "      <td>-6.1570</td>\n",
       "      <td>-5.372250</td>\n",
       "      <td>-2.72400</td>\n",
       "    </tr>\n",
       "    <tr>\n",
       "      <th>mode</th>\n",
       "      <td>50.0</td>\n",
       "      <td>0.780000</td>\n",
       "      <td>0.418452</td>\n",
       "      <td>0.00000</td>\n",
       "      <td>1.000000</td>\n",
       "      <td>1.0000</td>\n",
       "      <td>1.000000</td>\n",
       "      <td>1.00000</td>\n",
       "    </tr>\n",
       "    <tr>\n",
       "      <th>acousticness</th>\n",
       "      <td>50.0</td>\n",
       "      <td>0.319286</td>\n",
       "      <td>0.280465</td>\n",
       "      <td>0.00253</td>\n",
       "      <td>0.077675</td>\n",
       "      <td>0.1980</td>\n",
       "      <td>0.543500</td>\n",
       "      <td>0.92400</td>\n",
       "    </tr>\n",
       "    <tr>\n",
       "      <th>instrumentalness</th>\n",
       "      <td>50.0</td>\n",
       "      <td>0.000108</td>\n",
       "      <td>0.000540</td>\n",
       "      <td>0.00000</td>\n",
       "      <td>0.000000</td>\n",
       "      <td>0.0000</td>\n",
       "      <td>0.000011</td>\n",
       "      <td>0.00377</td>\n",
       "    </tr>\n",
       "    <tr>\n",
       "      <th>liveness</th>\n",
       "      <td>50.0</td>\n",
       "      <td>0.146816</td>\n",
       "      <td>0.101542</td>\n",
       "      <td>0.02640</td>\n",
       "      <td>0.088250</td>\n",
       "      <td>0.1040</td>\n",
       "      <td>0.145250</td>\n",
       "      <td>0.42000</td>\n",
       "    </tr>\n",
       "    <tr>\n",
       "      <th>valence</th>\n",
       "      <td>50.0</td>\n",
       "      <td>0.506958</td>\n",
       "      <td>0.241201</td>\n",
       "      <td>0.09690</td>\n",
       "      <td>0.291500</td>\n",
       "      <td>0.4745</td>\n",
       "      <td>0.702500</td>\n",
       "      <td>0.95600</td>\n",
       "    </tr>\n",
       "    <tr>\n",
       "      <th>tempo</th>\n",
       "      <td>50.0</td>\n",
       "      <td>114.825940</td>\n",
       "      <td>29.756217</td>\n",
       "      <td>62.63100</td>\n",
       "      <td>90.560000</td>\n",
       "      <td>105.9970</td>\n",
       "      <td>138.797500</td>\n",
       "      <td>184.00900</td>\n",
       "    </tr>\n",
       "    <tr>\n",
       "      <th>duration_ms</th>\n",
       "      <td>50.0</td>\n",
       "      <td>216573.020000</td>\n",
       "      <td>42941.231645</td>\n",
       "      <td>141806.00000</td>\n",
       "      <td>190153.500000</td>\n",
       "      <td>219853.5000</td>\n",
       "      <td>237087.000000</td>\n",
       "      <td>389107.00000</td>\n",
       "    </tr>\n",
       "    <tr>\n",
       "      <th>time_signature</th>\n",
       "      <td>50.0</td>\n",
       "      <td>3.940000</td>\n",
       "      <td>0.239898</td>\n",
       "      <td>3.00000</td>\n",
       "      <td>4.000000</td>\n",
       "      <td>4.0000</td>\n",
       "      <td>4.000000</td>\n",
       "      <td>4.00000</td>\n",
       "    </tr>\n",
       "  </tbody>\n",
       "</table>\n",
       "</div>"
      ],
      "text/plain": [
       "                  count           mean           std           min  \\\n",
       "danceability       50.0       0.655480      0.140470       0.33100   \n",
       "energy             50.0       0.569180      0.174263       0.24200   \n",
       "key                50.0       5.660000      3.679008       0.00000   \n",
       "loudness           50.0      -6.456960      2.040277     -12.68300   \n",
       "mode               50.0       0.780000      0.418452       0.00000   \n",
       "acousticness       50.0       0.319286      0.280465       0.00253   \n",
       "instrumentalness   50.0       0.000108      0.000540       0.00000   \n",
       "liveness           50.0       0.146816      0.101542       0.02640   \n",
       "valence            50.0       0.506958      0.241201       0.09690   \n",
       "tempo              50.0     114.825940     29.756217      62.63100   \n",
       "duration_ms        50.0  216573.020000  42941.231645  141806.00000   \n",
       "time_signature     50.0       3.940000      0.239898       3.00000   \n",
       "\n",
       "                            25%          50%            75%           max  \n",
       "danceability           0.577250       0.6415       0.760750       0.95600  \n",
       "energy                 0.421750       0.5780       0.696750       0.89300  \n",
       "key                    2.000000       6.0000       9.000000      11.00000  \n",
       "loudness              -7.476750      -6.1570      -5.372250      -2.72400  \n",
       "mode                   1.000000       1.0000       1.000000       1.00000  \n",
       "acousticness           0.077675       0.1980       0.543500       0.92400  \n",
       "instrumentalness       0.000000       0.0000       0.000011       0.00377  \n",
       "liveness               0.088250       0.1040       0.145250       0.42000  \n",
       "valence                0.291500       0.4745       0.702500       0.95600  \n",
       "tempo                 90.560000     105.9970     138.797500     184.00900  \n",
       "duration_ms       190153.500000  219853.5000  237087.000000  389107.00000  \n",
       "time_signature         4.000000       4.0000       4.000000       4.00000  "
      ]
     },
     "execution_count": 31,
     "metadata": {},
     "output_type": "execute_result"
    }
   ],
   "source": [
    "features_df.describe().transpose()"
   ]
  },
  {
   "cell_type": "code",
   "execution_count": null,
   "id": "3a68335e",
   "metadata": {},
   "outputs": [],
   "source": [
    " # converting duration from miliseconds to seconds"
   ]
  },
  {
   "cell_type": "code",
   "execution_count": 32,
   "id": "0e3d964c",
   "metadata": {},
   "outputs": [
    {
     "name": "stderr",
     "output_type": "stream",
     "text": [
      "c:\\users\\admin\\appdata\\local\\programs\\python\\python36\\lib\\site-packages\\ipykernel_launcher.py:1: SettingWithCopyWarning: \n",
      "A value is trying to be set on a copy of a slice from a DataFrame.\n",
      "Try using .loc[row_indexer,col_indexer] = value instead\n",
      "\n",
      "See the caveats in the documentation: https://pandas.pydata.org/pandas-docs/stable/user_guide/indexing.html#returning-a-view-versus-a-copy\n",
      "  \"\"\"Entry point for launching an IPython kernel.\n",
      "c:\\users\\admin\\appdata\\local\\programs\\python\\python36\\lib\\site-packages\\pandas\\core\\frame.py:4174: SettingWithCopyWarning: \n",
      "A value is trying to be set on a copy of a slice from a DataFrame\n",
      "\n",
      "See the caveats in the documentation: https://pandas.pydata.org/pandas-docs/stable/user_guide/indexing.html#returning-a-view-versus-a-copy\n",
      "  errors=errors,\n"
     ]
    }
   ],
   "source": [
    "features_df['duration']=features_df['duration_ms'].apply(lambda x: round(x/1000))\n",
    "features_df.drop('duration_ms', inplace=True, axis=1)"
   ]
  },
  {
   "cell_type": "code",
   "execution_count": 33,
   "id": "0be370e6",
   "metadata": {},
   "outputs": [
    {
     "data": {
      "text/html": [
       "<div>\n",
       "<style scoped>\n",
       "    .dataframe tbody tr th:only-of-type {\n",
       "        vertical-align: middle;\n",
       "    }\n",
       "\n",
       "    .dataframe tbody tr th {\n",
       "        vertical-align: top;\n",
       "    }\n",
       "\n",
       "    .dataframe thead th {\n",
       "        text-align: right;\n",
       "    }\n",
       "</style>\n",
       "<table border=\"1\" class=\"dataframe\">\n",
       "  <thead>\n",
       "    <tr style=\"text-align: right;\">\n",
       "      <th></th>\n",
       "      <th>id</th>\n",
       "      <th>title</th>\n",
       "      <th>first_artist</th>\n",
       "      <th>all_artists</th>\n",
       "      <th>danceability</th>\n",
       "      <th>energy</th>\n",
       "      <th>key</th>\n",
       "      <th>loudness</th>\n",
       "      <th>mode</th>\n",
       "      <th>acousticness</th>\n",
       "      <th>instrumentalness</th>\n",
       "      <th>liveness</th>\n",
       "      <th>valence</th>\n",
       "      <th>tempo</th>\n",
       "      <th>time_signature</th>\n",
       "      <th>duration</th>\n",
       "    </tr>\n",
       "  </thead>\n",
       "  <tbody>\n",
       "    <tr>\n",
       "      <th>0</th>\n",
       "      <td>4vUmTMuQqjdnvlZmAH61Qk</td>\n",
       "      <td>South of the Border (feat. Camila Cabello &amp; Ca...</td>\n",
       "      <td>Ed Sheeran</td>\n",
       "      <td>[Ed Sheeran, Camila Cabello, Cardi B]</td>\n",
       "      <td>0.857</td>\n",
       "      <td>0.621</td>\n",
       "      <td>9</td>\n",
       "      <td>-6.376</td>\n",
       "      <td>0</td>\n",
       "      <td>0.1480</td>\n",
       "      <td>0.000000</td>\n",
       "      <td>0.0865</td>\n",
       "      <td>0.668</td>\n",
       "      <td>97.989</td>\n",
       "      <td>4</td>\n",
       "      <td>204</td>\n",
       "    </tr>\n",
       "    <tr>\n",
       "      <th>1</th>\n",
       "      <td>1jIMjbzcGCcCQn5iMu9CUc</td>\n",
       "      <td>That's Hilarious</td>\n",
       "      <td>Charlie Puth</td>\n",
       "      <td>[Charlie Puth]</td>\n",
       "      <td>0.714</td>\n",
       "      <td>0.442</td>\n",
       "      <td>6</td>\n",
       "      <td>-5.909</td>\n",
       "      <td>1</td>\n",
       "      <td>0.7420</td>\n",
       "      <td>0.000000</td>\n",
       "      <td>0.1140</td>\n",
       "      <td>0.546</td>\n",
       "      <td>108.039</td>\n",
       "      <td>4</td>\n",
       "      <td>147</td>\n",
       "    </tr>\n",
       "    <tr>\n",
       "      <th>2</th>\n",
       "      <td>3rmo8F54jFF8OgYsqTxm5d</td>\n",
       "      <td>Bad Habits</td>\n",
       "      <td>Ed Sheeran</td>\n",
       "      <td>[Ed Sheeran]</td>\n",
       "      <td>0.807</td>\n",
       "      <td>0.893</td>\n",
       "      <td>11</td>\n",
       "      <td>-3.745</td>\n",
       "      <td>0</td>\n",
       "      <td>0.0451</td>\n",
       "      <td>0.000028</td>\n",
       "      <td>0.3660</td>\n",
       "      <td>0.537</td>\n",
       "      <td>126.011</td>\n",
       "      <td>4</td>\n",
       "      <td>231</td>\n",
       "    </tr>\n",
       "    <tr>\n",
       "      <th>3</th>\n",
       "      <td>6AtZLIzUINvExIUy4QhdjP</td>\n",
       "      <td>I Knew You Were Trouble (Taylor's Version)</td>\n",
       "      <td>Taylor Swift</td>\n",
       "      <td>[Taylor Swift]</td>\n",
       "      <td>0.584</td>\n",
       "      <td>0.557</td>\n",
       "      <td>6</td>\n",
       "      <td>-6.371</td>\n",
       "      <td>1</td>\n",
       "      <td>0.0129</td>\n",
       "      <td>0.000000</td>\n",
       "      <td>0.0576</td>\n",
       "      <td>0.767</td>\n",
       "      <td>154.008</td>\n",
       "      <td>4</td>\n",
       "      <td>220</td>\n",
       "    </tr>\n",
       "    <tr>\n",
       "      <th>4</th>\n",
       "      <td>50nfwKoDiSYg8zOCREWAm5</td>\n",
       "      <td>Shivers</td>\n",
       "      <td>Ed Sheeran</td>\n",
       "      <td>[Ed Sheeran]</td>\n",
       "      <td>0.788</td>\n",
       "      <td>0.859</td>\n",
       "      <td>2</td>\n",
       "      <td>-2.724</td>\n",
       "      <td>1</td>\n",
       "      <td>0.2810</td>\n",
       "      <td>0.000000</td>\n",
       "      <td>0.0424</td>\n",
       "      <td>0.822</td>\n",
       "      <td>141.020</td>\n",
       "      <td>4</td>\n",
       "      <td>208</td>\n",
       "    </tr>\n",
       "  </tbody>\n",
       "</table>\n",
       "</div>"
      ],
      "text/plain": [
       "                       id                                              title  \\\n",
       "0  4vUmTMuQqjdnvlZmAH61Qk  South of the Border (feat. Camila Cabello & Ca...   \n",
       "1  1jIMjbzcGCcCQn5iMu9CUc                                   That's Hilarious   \n",
       "2  3rmo8F54jFF8OgYsqTxm5d                                         Bad Habits   \n",
       "3  6AtZLIzUINvExIUy4QhdjP         I Knew You Were Trouble (Taylor's Version)   \n",
       "4  50nfwKoDiSYg8zOCREWAm5                                            Shivers   \n",
       "\n",
       "   first_artist                            all_artists  danceability  energy  \\\n",
       "0    Ed Sheeran  [Ed Sheeran, Camila Cabello, Cardi B]         0.857   0.621   \n",
       "1  Charlie Puth                         [Charlie Puth]         0.714   0.442   \n",
       "2    Ed Sheeran                           [Ed Sheeran]         0.807   0.893   \n",
       "3  Taylor Swift                         [Taylor Swift]         0.584   0.557   \n",
       "4    Ed Sheeran                           [Ed Sheeran]         0.788   0.859   \n",
       "\n",
       "   key  loudness  mode  acousticness  instrumentalness  liveness  valence  \\\n",
       "0    9    -6.376     0        0.1480          0.000000    0.0865    0.668   \n",
       "1    6    -5.909     1        0.7420          0.000000    0.1140    0.546   \n",
       "2   11    -3.745     0        0.0451          0.000028    0.3660    0.537   \n",
       "3    6    -6.371     1        0.0129          0.000000    0.0576    0.767   \n",
       "4    2    -2.724     1        0.2810          0.000000    0.0424    0.822   \n",
       "\n",
       "     tempo  time_signature  duration  \n",
       "0   97.989               4       204  \n",
       "1  108.039               4       147  \n",
       "2  126.011               4       231  \n",
       "3  154.008               4       220  \n",
       "4  141.020               4       208  "
      ]
     },
     "execution_count": 33,
     "metadata": {},
     "output_type": "execute_result"
    }
   ],
   "source": [
    "features_df.head()"
   ]
  },
  {
   "cell_type": "code",
   "execution_count": 55,
   "id": "5cf747c9",
   "metadata": {},
   "outputs": [],
   "source": [
    "features_df.to_csv('MY PLAYLIST2'+str(playlist_index)+\".csv\",encoding='utf-8',index='false')"
   ]
  },
  {
   "cell_type": "code",
   "execution_count": null,
   "id": "60cdab2f",
   "metadata": {},
   "outputs": [],
   "source": [
    "# I dropped 'key', 'mode' to conduct a correlation analysis"
   ]
  },
  {
   "cell_type": "code",
   "execution_count": 37,
   "id": "1a6f898d",
   "metadata": {},
   "outputs": [
    {
     "data": {
      "text/plain": [
       "[Text(0.5, 0, 'danceability'),\n",
       " Text(1.5, 0, 'energy'),\n",
       " Text(2.5, 0, 'loudness'),\n",
       " Text(3.5, 0, 'acousticness'),\n",
       " Text(4.5, 0, 'instrumentalness'),\n",
       " Text(5.5, 0, 'liveness'),\n",
       " Text(6.5, 0, 'valence'),\n",
       " Text(7.5, 0, 'tempo'),\n",
       " Text(8.5, 0, 'time_signature'),\n",
       " Text(9.5, 0, 'duration')]"
      ]
     },
     "execution_count": 37,
     "metadata": {},
     "output_type": "execute_result"
    },
    {
     "data": {
      "image/png": "[encoded data removed]",
      "text/plain": [
       "<Figure size 1008x432 with 2 Axes>"
      ]
     },
     "metadata": {
      "needs_background": "light"
     },
     "output_type": "display_data"
    }
   ],
   "source": [
    "cor_df=features_df.drop(['key','mode'],axis=1).corr(method='pearson')\n",
    "plt.figure(figsize=(14,6))\n",
    "heatmap=sns.heatmap(cor_df,annot=True,fmt='.1g',vmax=1,vmin=1,center=0,cmap='copper',linewidths=1,linecolor='Black')\n",
    "heatmap.set_title('CORRELATION HEATMAP BETWEEEN VARIABLE')\n",
    "heatmap.set_xticklabels(heatmap.get_xticklabels(), rotation=90)\n"
   ]
  },
  {
   "cell_type": "code",
   "execution_count": null,
   "id": "7db7055b",
   "metadata": {},
   "outputs": [],
   "source": [
    "#I created a regression plot "
   ]
  },
  {
   "cell_type": "code",
   "execution_count": 48,
   "id": "a0b95bad",
   "metadata": {},
   "outputs": [],
   "source": [
    "reg_df=features_df.sample(int(0.5*len(features_df)))\n"
   ]
  },
  {
   "cell_type": "code",
   "execution_count": 49,
   "id": "5867fa24",
   "metadata": {},
   "outputs": [
    {
     "name": "stdout",
     "output_type": "stream",
     "text": [
      "25\n"
     ]
    }
   ],
   "source": [
    "print(len(reg_df))"
   ]
  },
  {
   "cell_type": "code",
   "execution_count": 50,
   "id": "0d4e534e",
   "metadata": {},
   "outputs": [
    {
     "data": {
      "text/plain": [
       "[Text(0.5, 1.0, 'Loudness vs Eenery Correlation')]"
      ]
     },
     "execution_count": 50,
     "metadata": {},
     "output_type": "execute_result"
    },
    {
     "data": {
      "image/png": "[encoded data removed]",
      "text/plain": [
       "<Figure size 720x432 with 1 Axes>"
      ]
     },
     "metadata": {
      "needs_background": "light"
     },
     "output_type": "display_data"
    }
   ],
   "source": [
    "plt.figure(figsize=(10,6))\n",
    "sns.regplot(data=reg_df, y='loudness',x='energy', color='c').set(title='Loudness vs Energy Correlation')"
   ]
  },
  {
   "cell_type": "code",
   "execution_count": null,
   "id": "a143503c",
   "metadata": {},
   "outputs": [],
   "source": [
    "#There's a very high correlation betweeen Loudness vs Energy"
   ]
  },
  {
   "cell_type": "code",
   "execution_count": 53,
   "id": "262f5bf2",
   "metadata": {},
   "outputs": [
    {
     "data": {
      "text/plain": [
       "[Text(0.5, 1.0, 'Danceability vs Acousticness Correlation')]"
      ]
     },
     "execution_count": 53,
     "metadata": {},
     "output_type": "execute_result"
    },
    {
     "data": {
      "image/png": "[encoded data removed]",
      "text/plain": [
       "<Figure size 720x432 with 1 Axes>"
      ]
     },
     "metadata": {
      "needs_background": "light"
     },
     "output_type": "display_data"
    }
   ],
   "source": [
    "plt.figure(figsize=(10,6))\n",
    "sns.regplot(data=reg_df, y='danceability',x='acousticness', color='c').set(title='Danceability vs Acousticness Correlation')"
   ]
  },
  {
   "cell_type": "code",
   "execution_count": null,
   "id": "991b6a12",
   "metadata": {},
   "outputs": [],
   "source": [
    "# There's low correlation between danceability and acousticness"
   ]
  },
  {
   "cell_type": "code",
   "execution_count": null,
   "id": "a79a5673",
   "metadata": {},
   "outputs": [],
   "source": []
  }
 ],
 "metadata": {
  "kernelspec": {
   "display_name": "Python 3",
   "language": "python",
   "name": "python3"
  },
  "language_info": {
   "codemirror_mode": {
    "name": "ipython",
    "version": 3
   },
   "file_extension": ".py",
   "mimetype": "text/x-python",
   "name": "python",
   "nbconvert_exporter": "python",
   "pygments_lexer": "ipython3",
   "version": "3.6.8"
  }
 },
 "nbformat": 4,
 "nbformat_minor": 5
}
